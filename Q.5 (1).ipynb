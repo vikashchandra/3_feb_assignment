{
 "cells": [
  {
   "cell_type": "code",
   "execution_count": 10,
   "id": "d109b302-d478-4e43-9a36-5dc313593fab",
   "metadata": {},
   "outputs": [
    {
     "name": "stdout",
     "output_type": "stream",
     "text": [
      "2 3 5 7 11 13 17 19 23 29 31 37 41 43 47 53 59 61 67 71 "
     ]
    }
   ],
   "source": [
    "\"\"\"Q.5. Create a generator function for prime numbers less than \n",
    "1000. Use the next() method  to print the first 20 prime numbers.\"\"\"\n",
    "def gen(n):\n",
    "    for i in range(2,n+1):\n",
    "        if i==2:\n",
    "            yield i\n",
    "        else:\n",
    "            for a in range(2,i):\n",
    "                if i%a==0:\n",
    "                    break\n",
    "            else:\n",
    "                yield i\n",
    "r=gen(1000)\n",
    "for i in range(1,21):\n",
    "    print(next(r),end=\" \")"
   ]
  },
  {
   "cell_type": "code",
   "execution_count": null,
   "id": "1dafea16-daf3-4b6d-8233-6b0b1aecc9c7",
   "metadata": {},
   "outputs": [],
   "source": []
  }
 ],
 "metadata": {
  "kernelspec": {
   "display_name": "Python 3 (ipykernel)",
   "language": "python",
   "name": "python3"
  },
  "language_info": {
   "codemirror_mode": {
    "name": "ipython",
    "version": 3
   },
   "file_extension": ".py",
   "mimetype": "text/x-python",
   "name": "python",
   "nbconvert_exporter": "python",
   "pygments_lexer": "ipython3",
   "version": "3.10.8"
  }
 },
 "nbformat": 4,
 "nbformat_minor": 5
}
