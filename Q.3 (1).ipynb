{
 "cells": [
  {
   "cell_type": "code",
   "execution_count": 6,
   "id": "c91cee86-8c5d-471d-b011-fd9244f134c5",
   "metadata": {},
   "outputs": [
    {
     "name": "stdout",
     "output_type": "stream",
     "text": [
      "Here we print the first five element of the given list\n",
      "2 4 6 8 10 "
     ]
    }
   ],
   "source": [
    "\"\"\"What is an iterator in python?Name the method used to initialise the iterator object and the method used for iteration. Use these methods to print the first five elements of the givem list [2,4,6,8,10,12,14,16,18,20].\"\"\"\n",
    "\"\"\"Ans-- for loop is an iterator in python. we can use break and else method in for loop\"\"\"\n",
    "\n",
    "l=[2,4,6,8,10,12,14,16,18,20]\n",
    "c=0\n",
    "print(\"Here we print the first five element of the given list\")\n",
    "for i in l:\n",
    "    print(i,end=\" \")\n",
    "    c=c+1\n",
    "    if c==5:\n",
    "        break"
   ]
  },
  {
   "cell_type": "code",
   "execution_count": null,
   "id": "969216f1-fccb-454a-9dcc-c460258f0c40",
   "metadata": {},
   "outputs": [],
   "source": []
  }
 ],
 "metadata": {
  "kernelspec": {
   "display_name": "Python 3 (ipykernel)",
   "language": "python",
   "name": "python3"
  },
  "language_info": {
   "codemirror_mode": {
    "name": "ipython",
    "version": 3
   },
   "file_extension": ".py",
   "mimetype": "text/x-python",
   "name": "python",
   "nbconvert_exporter": "python",
   "pygments_lexer": "ipython3",
   "version": "3.10.8"
  }
 },
 "nbformat": 4,
 "nbformat_minor": 5
}
