{
 "cells": [
  {
   "cell_type": "code",
   "execution_count": 2,
   "id": "507703e7-dfaa-438c-b474-ff23b7460bb7",
   "metadata": {},
   "outputs": [
    {
     "name": "stdout",
     "output_type": "stream",
     "text": [
      "Here your first 10 fibonacci numbers\n",
      "\n",
      "0 1 1 2 3 5 8 13 21 34 "
     ]
    }
   ],
   "source": [
    "\"\"\"Q.6.Write a python program to print the first 10 fibonacci numbers using a while loop.\"\"\"\n",
    "print(\"Here your first 10 fibonacci numbers\\n\")\n",
    "a=0\n",
    "b=1\n",
    "i=1\n",
    "while i<=10:\n",
    "    print(a,end=\" \")\n",
    "    c=a+b\n",
    "    a=b\n",
    "    b=c\n",
    "    i=i+1\n",
    "    "
   ]
  },
  {
   "cell_type": "code",
   "execution_count": null,
   "id": "dee89cb1-158c-4a92-af1a-16b336c89949",
   "metadata": {},
   "outputs": [],
   "source": []
  }
 ],
 "metadata": {
  "kernelspec": {
   "display_name": "Python 3 (ipykernel)",
   "language": "python",
   "name": "python3"
  },
  "language_info": {
   "codemirror_mode": {
    "name": "ipython",
    "version": 3
   },
   "file_extension": ".py",
   "mimetype": "text/x-python",
   "name": "python",
   "nbconvert_exporter": "python",
   "pygments_lexer": "ipython3",
   "version": "3.10.8"
  }
 },
 "nbformat": 4,
 "nbformat_minor": 5
}
