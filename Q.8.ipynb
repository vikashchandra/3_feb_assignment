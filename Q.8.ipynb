{
 "cells": [
  {
   "cell_type": "code",
   "execution_count": null,
   "id": "50386a36-8b9a-4348-be77-f4325112ad7f",
   "metadata": {},
   "outputs": [],
   "source": [
    "\"\"\"Q.8. Write a python program to check whether a given number is\n",
    "palindrome or not using a while loop.\"\"\"\n",
    "n=int(input(\"Enter any number:\"))\n",
    "num=n\n",
    "rev=0\n",
    "rem=0\n",
    "while n>0:\n",
    "    rem=n%10\n",
    "    rev=rev*10+rem\n",
    "    n=n//10\n",
    "if num==rev:\n",
    "    print(\"Palindrome number\")\n",
    "el"
   ]
  },
  {
   "cell_type": "code",
   "execution_count": null,
   "id": "878c3a10-c11a-4909-8acf-413dda545caf",
   "metadata": {},
   "outputs": [],
   "source": []
  }
 ],
 "metadata": {
  "kernelspec": {
   "display_name": "Python 3 (ipykernel)",
   "language": "python",
   "name": "python3"
  },
  "language_info": {
   "codemirror_mode": {
    "name": "ipython",
    "version": 3
   },
   "file_extension": ".py",
   "mimetype": "text/x-python",
   "name": "python",
   "nbconvert_exporter": "python",
   "pygments_lexer": "ipython3",
   "version": "3.10.8"
  }
 },
 "nbformat": 4,
 "nbformat_minor": 5
}
