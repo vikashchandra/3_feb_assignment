{
 "cells": [
  {
   "cell_type": "code",
   "execution_count": 8,
   "id": "1ace9acc-70aa-4365-8057-201f8b74e66d",
   "metadata": {},
   "outputs": [
    {
     "name": "stdout",
     "output_type": "stream",
     "text": [
      "0 1 2 3 4 "
     ]
    }
   ],
   "source": [
    "\"\"\"Q.4. What is a generaotr function in python? Why yield keyword\n",
    "is used ? Give an example of generator function.\"\"\"\n",
    "\"\"\"Ans--A generator is a function that returns an iterator that \n",
    "produces asequence of values when iterated over.Generators are\n",
    "useful when we want to produce a large sequence of values, but we \n",
    "don't want to store all of them in memory at once.\n",
    "yield keyword is used to create a generator function. A type of \n",
    "function that is memory efficient and can be used like an iterator\n",
    "object.\n",
    "\n",
    "\"\"\"\n",
    "def gen(n):\n",
    "    for i in range(1,n):\n",
    "        yield i\n",
    "v=gen(5)\n",
    "for i in v:\n",
    "    print(i,end=\" \")"
   ]
  },
  {
   "cell_type": "code",
   "execution_count": null,
   "id": "bdcb18d9-4dd1-4bbe-a519-d94d1092774f",
   "metadata": {},
   "outputs": [],
   "source": []
  }
 ],
 "metadata": {
  "kernelspec": {
   "display_name": "Python 3 (ipykernel)",
   "language": "python",
   "name": "python3"
  },
  "language_info": {
   "codemirror_mode": {
    "name": "ipython",
    "version": 3
   },
   "file_extension": ".py",
   "mimetype": "text/x-python",
   "name": "python",
   "nbconvert_exporter": "python",
   "pygments_lexer": "ipython3",
   "version": "3.10.8"
  }
 },
 "nbformat": 4,
 "nbformat_minor": 5
}
