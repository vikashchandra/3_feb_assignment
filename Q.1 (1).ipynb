{
 "cells": [
  {
   "cell_type": "code",
   "execution_count": 12,
   "id": "38fb1ab2-7697-4660-8a0b-4c8376d333db",
   "metadata": {},
   "outputs": [
    {
     "name": "stdout",
     "output_type": "stream",
     "text": [
      "Here we print the odd number list between 1 to 25\n",
      "\n",
      "[1, 3, 5, 7, 9, 11, 13, 15, 17, 19, 21, 23, 25]\n"
     ]
    }
   ],
   "source": [
    "#Q.1. Which keyword is used to create a function? CReate a function to return a list of odd numbers in the range of 1 to 25.\"\"\"\n",
    "#ANS-- def keyword is used to create a function .\n",
    "# If we want to create a user defined funtion then we must to use 'def' keyword.\n",
    "# syntax==>    def  function_name(parameter):\n",
    "#                     statement\n",
    "#                     return argument    \n",
    "\n",
    "def odd():\n",
    "    l=[]\n",
    "    for i in range (25):\n",
    "        if (i+1)%2!=0:\n",
    "            l.append(i+1)\n",
    "    return l\n",
    "m=[]\n",
    "m=odd()\n",
    "print(\"Here we print the odd number list between 1 to 25\\n\")\n",
    "print(m)"
   ]
  },
  {
   "cell_type": "code",
   "execution_count": null,
   "id": "1f611c89-21e5-4e56-9c3a-8fec4c1761c8",
   "metadata": {},
   "outputs": [],
   "source": []
  }
 ],
 "metadata": {
  "kernelspec": {
   "display_name": "Python 3 (ipykernel)",
   "language": "python",
   "name": "python3"
  },
  "language_info": {
   "codemirror_mode": {
    "name": "ipython",
    "version": 3
   },
   "file_extension": ".py",
   "mimetype": "text/x-python",
   "name": "python",
   "nbconvert_exporter": "python",
   "pygments_lexer": "ipython3",
   "version": "3.10.8"
  }
 },
 "nbformat": 4,
 "nbformat_minor": 5
}
